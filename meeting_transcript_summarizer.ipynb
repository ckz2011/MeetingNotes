{
  "cells": [
    {
      "cell_type": "markdown",
      "metadata": {
        "id": "view-in-github",
        "colab_type": "text"
      },
      "source": [
        "<a href=\"https://colab.research.google.com/github/ckz2011/MeetingNotes/blob/main/meeting_transcript_summarizer.ipynb\" target=\"_parent\"><img src=\"https://colab.research.google.com/assets/colab-badge.svg\" alt=\"Open In Colab\"/></a>"
      ]
    },
    {
      "cell_type": "markdown",
      "metadata": {
        "id": "gdtyXyvnPY7m"
      },
      "source": [
        "# Assignment 3: Meeting Transcript Summarizer & Action-Item Extractor\n",
        "\n",
        "This notebook implements a meeting transcript summarizer and action-item extractor using GPT-4o or GPT-4.1-mini.\n"
      ],
      "id": "gdtyXyvnPY7m"
    },
    {
      "cell_type": "markdown",
      "metadata": {
        "id": "cadmnCS7PY7o"
      },
      "source": [
        "## Step 1: Install Required Libraries\n",
        "Make sure you have `openai` and `pydantic` installed. Uncomment and run the cell below if needed."
      ],
      "id": "cadmnCS7PY7o"
    },
    {
      "cell_type": "code",
      "execution_count": null,
      "metadata": {
        "colab": {
          "base_uri": "https://localhost:8080/"
        },
        "id": "FjJfqRHMPY7p",
        "outputId": "8c950b24-63e0-4756-c05c-46f2e32ebf9c"
      },
      "outputs": [
        {
          "output_type": "stream",
          "name": "stdout",
          "text": [
            "Requirement already satisfied: openai in /usr/local/lib/python3.11/dist-packages (1.86.0)\n",
            "Requirement already satisfied: pydantic in /usr/local/lib/python3.11/dist-packages (2.11.7)\n",
            "Requirement already satisfied: anyio<5,>=3.5.0 in /usr/local/lib/python3.11/dist-packages (from openai) (4.9.0)\n",
            "Requirement already satisfied: distro<2,>=1.7.0 in /usr/local/lib/python3.11/dist-packages (from openai) (1.9.0)\n",
            "Requirement already satisfied: httpx<1,>=0.23.0 in /usr/local/lib/python3.11/dist-packages (from openai) (0.28.1)\n",
            "Requirement already satisfied: jiter<1,>=0.4.0 in /usr/local/lib/python3.11/dist-packages (from openai) (0.10.0)\n",
            "Requirement already satisfied: sniffio in /usr/local/lib/python3.11/dist-packages (from openai) (1.3.1)\n",
            "Requirement already satisfied: tqdm>4 in /usr/local/lib/python3.11/dist-packages (from openai) (4.67.1)\n",
            "Requirement already satisfied: typing-extensions<5,>=4.11 in /usr/local/lib/python3.11/dist-packages (from openai) (4.14.0)\n",
            "Requirement already satisfied: annotated-types>=0.6.0 in /usr/local/lib/python3.11/dist-packages (from pydantic) (0.7.0)\n",
            "Requirement already satisfied: pydantic-core==2.33.2 in /usr/local/lib/python3.11/dist-packages (from pydantic) (2.33.2)\n",
            "Requirement already satisfied: typing-inspection>=0.4.0 in /usr/local/lib/python3.11/dist-packages (from pydantic) (0.4.1)\n",
            "Requirement already satisfied: idna>=2.8 in /usr/local/lib/python3.11/dist-packages (from anyio<5,>=3.5.0->openai) (3.10)\n",
            "Requirement already satisfied: certifi in /usr/local/lib/python3.11/dist-packages (from httpx<1,>=0.23.0->openai) (2025.6.15)\n",
            "Requirement already satisfied: httpcore==1.* in /usr/local/lib/python3.11/dist-packages (from httpx<1,>=0.23.0->openai) (1.0.9)\n",
            "Requirement already satisfied: h11>=0.16 in /usr/local/lib/python3.11/dist-packages (from httpcore==1.*->httpx<1,>=0.23.0->openai) (0.16.0)\n"
          ]
        }
      ],
      "source": [
        " !pip install openai pydantic"
      ],
      "id": "FjJfqRHMPY7p"
    },
    {
      "cell_type": "code",
      "source": [
        "!pip install python-dotenv"
      ],
      "metadata": {
        "colab": {
          "base_uri": "https://localhost:8080/"
        },
        "id": "aBQE_PfqYXGo",
        "outputId": "787d3c6a-2937-4a3f-cb2e-489f5b5f37a5"
      },
      "id": "aBQE_PfqYXGo",
      "execution_count": null,
      "outputs": [
        {
          "output_type": "stream",
          "name": "stdout",
          "text": [
            "Collecting python-dotenv\n",
            "  Downloading python_dotenv-1.1.0-py3-none-any.whl.metadata (24 kB)\n",
            "Downloading python_dotenv-1.1.0-py3-none-any.whl (20 kB)\n",
            "Installing collected packages: python-dotenv\n",
            "Successfully installed python-dotenv-1.1.0\n"
          ]
        }
      ]
    },
    {
      "cell_type": "markdown",
      "metadata": {
        "id": "exJYnuH_PY7r"
      },
      "source": [
        "## Step 2: Define the Prompt Template and Extraction Function"
      ],
      "id": "exJYnuH_PY7r"
    },
    {
      "cell_type": "code",
      "execution_count": null,
      "metadata": {
        "id": "gmP5vC1NPY7q",
        "colab": {
          "base_uri": "https://localhost:8080/"
        },
        "outputId": "1a511bdc-fecc-4c4f-b68d-a7e7e81a806c"
      },
      "outputs": [
        {
          "output_type": "stream",
          "name": "stdout",
          "text": [
            "Azure OpenAI Endpoint: https://eastus2.api.cognitive.microsoft.com/\n",
            "OpenWeatherMap API Key: 6a8b0ac166a37e2b7a38e64416b3c3fe\n"
          ]
        }
      ],
      "source": [
        "from openai import OpenAI\n",
        "from pydantic import BaseModel\n",
        "from typing import List\n",
        "\n",
        "\n",
        "env_variables = \"\"\"\n",
        "AZURE_OPENAI_ENDPOINT=https://eastus2.api.cognitive.microsoft.com/\n",
        "AZURE_OPENAI_API_KEY=6367eda5b6ea49b7a64f078f38b392b1\n",
        "OPENAI_API_VERSION=2024-12-01-preview\n",
        "LANGFUSE_SECRET_KEY=sk-lf-4cb9921-317d-45db-b918-4d033774bfd3\n",
        "LANGFUSE_PUBLIC_KEY=pk-lf-a8a99717-832e-46fe-8b20-651d7fb37889\n",
        "OPENWEATHERMAP_API_KEY=6a8b0ac166a37e2b7a38e64416b3c3fe\n",
        "\"\"\"\n",
        "\n",
        "# Create the .env file in the current directory\n",
        "with open('.env', 'w') as f:\n",
        "    f.write(env_variables)\n",
        "\n",
        "\n",
        "\n",
        "from dotenv import load_dotenv\n",
        "import os\n",
        "\n",
        "# Load the environment variables from the .env file\n",
        "load_dotenv()\n",
        "\n",
        "# Access the environment variables\n",
        "azure_openai_endpoint = os.getenv('AZURE_OPENAI_ENDPOINT')\n",
        "azure_openai_api_key = os.getenv('AZURE_OPENAI_API_KEY')\n",
        "openai_api_version = os.getenv('OPENAI_API_VERSION')\n",
        "\n",
        "\n",
        "# Print to verify\n",
        "print(f\"Azure OpenAI Endpoint: {azure_openai_endpoint}\")\n",
        "print(f\"OpenWeatherMap API Key: {openweathermap_api_key}\")\n",
        "\n",
        "\n",
        "from openai import AzureOpenAI\n",
        "client = AzureOpenAI()\n",
        "\n",
        "\n",
        "class MeetingNotes(BaseModel):\n",
        "    summary: str\n",
        "    action_items: List[str]\n",
        "\n",
        "def extract_meeting_notes(transcript: str) -> dict:\n",
        "    prompt = (\n",
        "        \"Given the following meeting transcript, extract:\\n\"\n",
        "        \"1. A two-sentence summary of the meeting.\\n\"\n",
        "        \"2. A list of all action items mentioned, each prefixed with a dash (-).\\n\"\n",
        "        \"Return the result as a JSON object with keys 'summary' and 'action_items'.\\n\\n\"\n",
        "        f\"Transcript:\\n{transcript}\"\n",
        "    )\n",
        "\n",
        "    response = client.chat.completions.create(\n",
        "        model=\"myllm\",\n",
        "        messages=[\n",
        "            {\"role\": \"system\", \"content\": \"You are a helpful assistant that formats meeting notes.\"},\n",
        "            {\"role\": \"user\", \"content\": prompt}\n",
        "        ],\n",
        "        temperature=0\n",
        "    )\n",
        "\n",
        "    message = response.choices[0].message.content\n",
        "\n",
        "    try:\n",
        "        parsed = MeetingNotes.parse_raw(message)\n",
        "        return parsed.dict()\n",
        "    except Exception:\n",
        "        retry_prompt = \"Please output valid JSON only.\\n\" + prompt\n",
        "        retry_response = client.chat.completions.create(\n",
        "            model=\"gpt-4o\",\n",
        "            messages=[\n",
        "                {\"role\": \"system\", \"content\": \"Please output valid JSON only.\"},\n",
        "                {\"role\": \"user\", \"content\": retry_prompt}\n",
        "            ],\n",
        "            temperature=0\n",
        "        )\n",
        "        retry_message = retry_response.choices[0].message.content\n",
        "        return MeetingNotes.parse_raw(retry_message).dict()\n"
      ],
      "id": "gmP5vC1NPY7q"
    },
    {
      "cell_type": "code",
      "source": [],
      "metadata": {
        "id": "MD0wto8QVGmu"
      },
      "id": "MD0wto8QVGmu",
      "execution_count": null,
      "outputs": []
    },
    {
      "cell_type": "markdown",
      "metadata": {
        "id": "rneWLZpNPY7s"
      },
      "source": [
        "## Step 3: Try It with a Sample Transcript"
      ],
      "id": "rneWLZpNPY7s"
    },
    {
      "cell_type": "code",
      "execution_count": null,
      "metadata": {
        "colab": {
          "base_uri": "https://localhost:8080/"
        },
        "id": "GrMYyvs6PY7s",
        "outputId": "42ed9e13-9c0f-4cec-a843-63bc5a6342e8"
      },
      "outputs": [
        {
          "output_type": "stream",
          "name": "stdout",
          "text": [
            "{'summary': 'The team discussed finalizing the Q2 marketing campaign by next Monday. Bob will coordinate with the design team to send out the first draft by Friday, while Alice will prepare the email templates over the weekend.', 'action_items': ['- Bob will coordinate with the design team and send out the first draft by Friday.', '- Alice will prepare the email templates over the weekend.']}\n"
          ]
        },
        {
          "output_type": "stream",
          "name": "stderr",
          "text": [
            "/tmp/ipython-input-22-2404821778.py:67: PydanticDeprecatedSince20: The `parse_raw` method is deprecated; if your data is JSON use `model_validate_json`, otherwise load the data then use `model_validate` instead. Deprecated in Pydantic V2.0 to be removed in V3.0. See Pydantic V2 Migration Guide at https://errors.pydantic.dev/2.11/migration/\n",
            "  parsed = MeetingNotes.parse_raw(message)\n",
            "/tmp/ipython-input-22-2404821778.py:68: PydanticDeprecatedSince20: The `dict` method is deprecated; use `model_dump` instead. Deprecated in Pydantic V2.0 to be removed in V3.0. See Pydantic V2 Migration Guide at https://errors.pydantic.dev/2.11/migration/\n",
            "  return parsed.dict()\n"
          ]
        }
      ],
      "source": [
        "sample_transcript = '''\n",
        "Alice: We need to finalize the Q2 marketing campaign by next Monday.\n",
        "Bob: I'll coordinate with the design team and send out the first draft by Friday.\n",
        "Alice: Great, and I'll prepare the email templates over the weekend.\n",
        "'''\n",
        "\n",
        "output = extract_meeting_notes(sample_transcript)\n",
        "print(output)\n"
      ],
      "id": "GrMYyvs6PY7s"
    }
  ],
  "metadata": {
    "kernelspec": {
      "display_name": "Python 3",
      "language": "python",
      "name": "python3"
    },
    "language_info": {
      "name": "python",
      "version": "3.x"
    },
    "colab": {
      "provenance": [],
      "include_colab_link": true
    }
  },
  "nbformat": 4,
  "nbformat_minor": 5
}